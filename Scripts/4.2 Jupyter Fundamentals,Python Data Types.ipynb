{
 "cells": [
  {
   "cell_type": "markdown",
   "id": "0689e0bb-ecba-49c2-97b4-c21345673a8a",
   "metadata": {},
   "source": [
    "\n",
    "#Importing Libraries"
   ]
  },
  {
   "cell_type": "code",
   "execution_count": 1,
   "id": "ff174a4c-679f-4ee3-b919-8ed62a785c1d",
   "metadata": {},
   "outputs": [],
   "source": [
    "# Import libraries\n",
    "import pandas as pd\n",
    "import numpy as np\n",
    "import os"
   ]
  },
  {
   "cell_type": "code",
   "execution_count": 2,
   "id": "d4ea838a-d88b-4d98-b9dd-b0b70e013f97",
   "metadata": {},
   "outputs": [],
   "source": [
    "x = 2"
   ]
  },
  {
   "cell_type": "code",
   "execution_count": 4,
   "id": "d7260ff5-957e-4acc-addf-f57e63a33c87",
   "metadata": {
    "panel-layout": {
     "height": 0,
     "visible": true,
     "width": 100
    }
   },
   "outputs": [
    {
     "name": "stdout",
     "output_type": "stream",
     "text": [
      "2\n"
     ]
    }
   ],
   "source": [
    "print(x)"
   ]
  },
  {
   "cell_type": "code",
   "execution_count": 5,
   "id": "2b0ed2ef-9609-4b64-ad5a-3a13eb8babed",
   "metadata": {
    "panel-layout": {
     "height": 10,
     "visible": true,
     "width": 100
    }
   },
   "outputs": [
    {
     "data": {
      "text/plain": [
       "int"
      ]
     },
     "execution_count": 5,
     "metadata": {},
     "output_type": "execute_result"
    }
   ],
   "source": [
    "type(x)"
   ]
  },
  {
   "cell_type": "code",
   "execution_count": 6,
   "id": "183700cf-252f-4ded-93fe-5c10a56f063a",
   "metadata": {},
   "outputs": [],
   "source": [
    "y = 5.678"
   ]
  },
  {
   "cell_type": "code",
   "execution_count": 7,
   "id": "a0c2a30f-c4af-4a51-af69-7a00c8364da8",
   "metadata": {
    "panel-layout": {
     "height": 10,
     "visible": true,
     "width": 100
    }
   },
   "outputs": [
    {
     "data": {
      "text/plain": [
       "float"
      ]
     },
     "execution_count": 7,
     "metadata": {},
     "output_type": "execute_result"
    }
   ],
   "source": [
    "type (y)"
   ]
  },
  {
   "cell_type": "code",
   "execution_count": 8,
   "id": "0db6ca0f-50b4-4fd2-91ad-17b5b572f7fc",
   "metadata": {},
   "outputs": [],
   "source": [
    "z = 'Brazil'"
   ]
  },
  {
   "cell_type": "code",
   "execution_count": 9,
   "id": "ef041d02-5441-428e-aa29-03ecf8b82390",
   "metadata": {},
   "outputs": [
    {
     "data": {
      "text/plain": [
       "str"
      ]
     },
     "execution_count": 9,
     "metadata": {},
     "output_type": "execute_result"
    }
   ],
   "source": [
    "type (z)"
   ]
  },
  {
   "cell_type": "code",
   "execution_count": 10,
   "id": "080773db-5128-4fb7-8b3f-b38d3d42eace",
   "metadata": {},
   "outputs": [
    {
     "data": {
      "text/plain": [
       "str"
      ]
     },
     "execution_count": 10,
     "metadata": {},
     "output_type": "execute_result"
    }
   ],
   "source": [
    "type ('Mania')"
   ]
  },
  {
   "cell_type": "code",
   "execution_count": 11,
   "id": "d8da2d81-1aec-4afc-b131-6972a8ffeb11",
   "metadata": {},
   "outputs": [
    {
     "data": {
      "text/plain": [
       "bool"
      ]
     },
     "execution_count": 11,
     "metadata": {},
     "output_type": "execute_result"
    }
   ],
   "source": [
    "type (True) "
   ]
  },
  {
   "cell_type": "code",
   "execution_count": 12,
   "id": "fb34931c-c9c9-4848-a65d-aea38aefb3f6",
   "metadata": {},
   "outputs": [
    {
     "data": {
      "text/plain": [
       "bool"
      ]
     },
     "execution_count": 12,
     "metadata": {},
     "output_type": "execute_result"
    }
   ],
   "source": [
    "type (False)"
   ]
  },
  {
   "cell_type": "code",
   "execution_count": 13,
   "id": "773228b0-de3f-4ea5-9606-7282a3868218",
   "metadata": {},
   "outputs": [
    {
     "name": "stdout",
     "output_type": "stream",
     "text": [
      "2\n"
     ]
    }
   ],
   "source": [
    "print (x)"
   ]
  },
  {
   "cell_type": "code",
   "execution_count": 14,
   "id": "a81389e9-d5df-4dd7-89c1-b81264be5403",
   "metadata": {},
   "outputs": [
    {
     "data": {
      "text/plain": [
       "6"
      ]
     },
     "execution_count": 14,
     "metadata": {},
     "output_type": "execute_result"
    }
   ],
   "source": [
    "x + 4 "
   ]
  },
  {
   "cell_type": "code",
   "execution_count": 15,
   "id": "9a8838d8-c808-4aa0-8391-220f7cbe34ae",
   "metadata": {},
   "outputs": [
    {
     "data": {
      "text/plain": [
       "7.678"
      ]
     },
     "execution_count": 15,
     "metadata": {},
     "output_type": "execute_result"
    }
   ],
   "source": [
    "x + y"
   ]
  },
  {
   "cell_type": "code",
   "execution_count": 16,
   "id": "5795ae79-3dfa-4662-90c4-130d693675f7",
   "metadata": {},
   "outputs": [],
   "source": [
    "x = x + 4"
   ]
  },
  {
   "cell_type": "code",
   "execution_count": 19,
   "id": "53a5eadf-0f6b-46c5-a2b4-5851d44e0425",
   "metadata": {},
   "outputs": [
    {
     "name": "stdout",
     "output_type": "stream",
     "text": [
      "10\n"
     ]
    }
   ],
   "source": [
    "print (x)"
   ]
  },
  {
   "cell_type": "code",
   "execution_count": 20,
   "id": "041d8042-2fc3-4fce-b650-7567ec21b0ca",
   "metadata": {},
   "outputs": [],
   "source": [
    "a = 'Hello,'"
   ]
  },
  {
   "cell_type": "code",
   "execution_count": 21,
   "id": "70f5f9f8-5e80-494e-b495-dc6b78ef7f99",
   "metadata": {},
   "outputs": [],
   "source": [
    "b = 'Marley'"
   ]
  },
  {
   "cell_type": "code",
   "execution_count": 22,
   "id": "ecfd8401-56c1-475e-9ef4-e02d85d06a64",
   "metadata": {},
   "outputs": [
    {
     "data": {
      "text/plain": [
       "'Hello,Marley'"
      ]
     },
     "execution_count": 22,
     "metadata": {},
     "output_type": "execute_result"
    }
   ],
   "source": [
    "a+b "
   ]
  },
  {
   "cell_type": "code",
   "execution_count": 23,
   "id": "44e8cde3-0107-40af-8cb0-8d9589f4d1f7",
   "metadata": {},
   "outputs": [
    {
     "data": {
      "text/plain": [
       "False"
      ]
     },
     "execution_count": 23,
     "metadata": {},
     "output_type": "execute_result"
    }
   ],
   "source": [
    "x == y"
   ]
  },
  {
   "cell_type": "code",
   "execution_count": 24,
   "id": "9df0d701-5794-4452-bff7-8de00d793062",
   "metadata": {},
   "outputs": [
    {
     "data": {
      "text/plain": [
       "bool"
      ]
     },
     "execution_count": 24,
     "metadata": {},
     "output_type": "execute_result"
    }
   ],
   "source": [
    "type ( x==y)"
   ]
  },
  {
   "cell_type": "code",
   "execution_count": 3,
   "id": "f9170260-0dd2-41f7-877e-383f00cc0639",
   "metadata": {
    "panel-layout": {
     "height": 27.140625,
     "visible": true,
     "width": 100
    }
   },
   "outputs": [
    {
     "data": {
      "text/plain": [
       "2"
      ]
     },
     "execution_count": 3,
     "metadata": {},
     "output_type": "execute_result"
    }
   ],
   "source": [
    "x"
   ]
  },
  {
   "cell_type": "markdown",
   "id": "5ab6f83c-6d58-4c40-8873-0653a6618184",
   "metadata": {},
   "source": [
    "# Working with data types"
   ]
  },
  {
   "cell_type": "code",
   "execution_count": 25,
   "id": "d715af33-5c1b-4e8c-a60a-b7d9a369811b",
   "metadata": {},
   "outputs": [],
   "source": [
    "x= 20"
   ]
  },
  {
   "cell_type": "code",
   "execution_count": 26,
   "id": "7e357f39-4751-46e2-b490-eadd2146b5fc",
   "metadata": {},
   "outputs": [
    {
     "name": "stdout",
     "output_type": "stream",
     "text": [
      "20\n"
     ]
    }
   ],
   "source": [
    "print (x)"
   ]
  },
  {
   "cell_type": "code",
   "execution_count": 28,
   "id": "eeecdc91-913e-41ae-9bba-c0391438a197",
   "metadata": {},
   "outputs": [
    {
     "data": {
      "text/plain": [
       "100"
      ]
     },
     "execution_count": 28,
     "metadata": {},
     "output_type": "execute_result"
    }
   ],
   "source": [
    "x+x+x+x+x"
   ]
  },
  {
   "cell_type": "code",
   "execution_count": 29,
   "id": "129a17d0-6057-4e10-af9b-8ff0a41ee3e1",
   "metadata": {},
   "outputs": [],
   "source": [
    "y= 80"
   ]
  },
  {
   "cell_type": "code",
   "execution_count": 30,
   "id": "8f54ad0c-5b56-408b-bbb8-58a30dcf50f6",
   "metadata": {},
   "outputs": [
    {
     "data": {
      "text/plain": [
       "100"
      ]
     },
     "execution_count": 30,
     "metadata": {},
     "output_type": "execute_result"
    }
   ],
   "source": [
    "x+y"
   ]
  },
  {
   "cell_type": "code",
   "execution_count": 31,
   "id": "b22f8d16-eb7b-4fa9-944d-52cf73dfe95a",
   "metadata": {},
   "outputs": [
    {
     "data": {
      "text/plain": [
       "400"
      ]
     },
     "execution_count": 31,
     "metadata": {},
     "output_type": "execute_result"
    }
   ],
   "source": [
    "y * 5"
   ]
  },
  {
   "cell_type": "code",
   "execution_count": 32,
   "id": "0a3bd97d-dc91-49de-a6f4-942473bee61c",
   "metadata": {},
   "outputs": [
    {
     "data": {
      "text/plain": [
       "100"
      ]
     },
     "execution_count": 32,
     "metadata": {},
     "output_type": "execute_result"
    }
   ],
   "source": [
    "(y*5)- 300"
   ]
  },
  {
   "cell_type": "code",
   "execution_count": 33,
   "id": "550f4ac0-3de6-44bf-b8b0-bf6110c5fa90",
   "metadata": {},
   "outputs": [],
   "source": [
    "x = 6.5759"
   ]
  },
  {
   "cell_type": "code",
   "execution_count": 44,
   "id": "54d7ba8f-8d8b-4c77-830c-606d1db4fb63",
   "metadata": {},
   "outputs": [
    {
     "name": "stdout",
     "output_type": "stream",
     "text": [
      "(6, 5759)\n"
     ]
    }
   ],
   "source": [
    "print (x)"
   ]
  },
  {
   "cell_type": "code",
   "execution_count": 34,
   "id": "a934f0c4-12be-46c2-bd19-cc41dd8323f2",
   "metadata": {},
   "outputs": [],
   "source": [
    "y = 3.784"
   ]
  },
  {
   "cell_type": "code",
   "execution_count": 45,
   "id": "0a4f8fe7-0391-4476-bc66-2f331be4df81",
   "metadata": {},
   "outputs": [
    {
     "name": "stdout",
     "output_type": "stream",
     "text": [
      "(3, 784)\n"
     ]
    }
   ],
   "source": [
    "print (y)"
   ]
  },
  {
   "cell_type": "code",
   "execution_count": 54,
   "id": "4105a323-0553-417d-85b5-30efae097ef0",
   "metadata": {},
   "outputs": [],
   "source": [
    "a = 'Javiera,'"
   ]
  },
  {
   "cell_type": "code",
   "execution_count": 55,
   "id": "2adc73a1-596e-45bd-bd22-5015046e386f",
   "metadata": {},
   "outputs": [],
   "source": [
    "b = 'Quezada'"
   ]
  },
  {
   "cell_type": "code",
   "execution_count": 56,
   "id": "1ea13d81-003a-45d9-9a49-0f1c583c60d1",
   "metadata": {},
   "outputs": [
    {
     "data": {
      "text/plain": [
       "'Javiera,Quezada'"
      ]
     },
     "execution_count": 56,
     "metadata": {},
     "output_type": "execute_result"
    }
   ],
   "source": [
    "a+b"
   ]
  }
 ],
 "metadata": {
  "kernelspec": {
   "display_name": "Python [conda env:base] *",
   "language": "python",
   "name": "conda-base-py"
  },
  "language_info": {
   "codemirror_mode": {
    "name": "ipython",
    "version": 3
   },
   "file_extension": ".py",
   "mimetype": "text/x-python",
   "name": "python",
   "nbconvert_exporter": "python",
   "pygments_lexer": "ipython3",
   "version": "3.12.7"
  },
  "panel-cell-order": [
   "f9170260-0dd2-41f7-877e-383f00cc0639",
   "d7260ff5-957e-4acc-addf-f57e63a33c87",
   "2b0ed2ef-9609-4b64-ad5a-3a13eb8babed",
   "a0c2a30f-c4af-4a51-af69-7a00c8364da8"
  ]
 },
 "nbformat": 4,
 "nbformat_minor": 5
}
