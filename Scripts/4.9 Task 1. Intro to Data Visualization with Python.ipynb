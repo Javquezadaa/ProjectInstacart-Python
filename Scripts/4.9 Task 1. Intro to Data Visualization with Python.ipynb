{
 "cells": [
  {
   "cell_type": "code",
   "execution_count": 1,
   "id": "4db1c971-c9d9-44c2-bc9c-c88bf65c3fca",
   "metadata": {},
   "outputs": [],
   "source": [
    "## Step.3\n",
    "## Importing Libraries\n",
    "import pandas as pd\n",
    "import numpy as np\n",
    "import os\n",
    "import matplotlib.pyplot as plt\n",
    "import seaborn as sns\n",
    "import scipy"
   ]
  },
  {
   "cell_type": "code",
   "execution_count": 4,
   "id": "0d5efb70-cbb2-4411-992b-ea75c8dfbff7",
   "metadata": {},
   "outputs": [],
   "source": [
    "## Importing Data set ords_prods_merge\n",
    "customer = pd.read_csv(r'/Users/javieraquezada/Desktop/05-2025 Instacart Basket Analysis/02 Data/Original Data/customers.csv')"
   ]
  },
  {
   "cell_type": "code",
   "execution_count": 5,
   "id": "ae15dd47-3de9-457c-a3ba-63c7249e3a04",
   "metadata": {},
   "outputs": [],
   "source": [
    "##Creating Path\n",
    "path = r'/Users/javieraquezada/Desktop/05-2025 Instacart Basket Analysis'"
   ]
  },
  {
   "cell_type": "code",
   "execution_count": 6,
   "id": "a444d2e7-9c6f-4b4d-b605-046f164b13a3",
   "metadata": {},
   "outputs": [
    {
     "data": {
      "text/plain": [
       "(206209, 10)"
      ]
     },
     "execution_count": 6,
     "metadata": {},
     "output_type": "execute_result"
    }
   ],
   "source": [
    "## Step 4. Wrangling Data \n",
    "##Consistency Check\n",
    "customer.shape"
   ]
  },
  {
   "cell_type": "code",
   "execution_count": 7,
   "id": "3493dca3-77f9-438b-8202-37fe09a4e5d0",
   "metadata": {},
   "outputs": [
    {
     "data": {
      "text/html": [
       "<div>\n",
       "<style scoped>\n",
       "    .dataframe tbody tr th:only-of-type {\n",
       "        vertical-align: middle;\n",
       "    }\n",
       "\n",
       "    .dataframe tbody tr th {\n",
       "        vertical-align: top;\n",
       "    }\n",
       "\n",
       "    .dataframe thead th {\n",
       "        text-align: right;\n",
       "    }\n",
       "</style>\n",
       "<table border=\"1\" class=\"dataframe\">\n",
       "  <thead>\n",
       "    <tr style=\"text-align: right;\">\n",
       "      <th></th>\n",
       "      <th>user_id</th>\n",
       "      <th>Age</th>\n",
       "      <th>n_dependants</th>\n",
       "      <th>income</th>\n",
       "    </tr>\n",
       "  </thead>\n",
       "  <tbody>\n",
       "    <tr>\n",
       "      <th>count</th>\n",
       "      <td>206209.000000</td>\n",
       "      <td>206209.000000</td>\n",
       "      <td>206209.000000</td>\n",
       "      <td>206209.000000</td>\n",
       "    </tr>\n",
       "    <tr>\n",
       "      <th>mean</th>\n",
       "      <td>103105.000000</td>\n",
       "      <td>49.501646</td>\n",
       "      <td>1.499823</td>\n",
       "      <td>94632.852548</td>\n",
       "    </tr>\n",
       "    <tr>\n",
       "      <th>std</th>\n",
       "      <td>59527.555167</td>\n",
       "      <td>18.480962</td>\n",
       "      <td>1.118433</td>\n",
       "      <td>42473.786988</td>\n",
       "    </tr>\n",
       "    <tr>\n",
       "      <th>min</th>\n",
       "      <td>1.000000</td>\n",
       "      <td>18.000000</td>\n",
       "      <td>0.000000</td>\n",
       "      <td>25903.000000</td>\n",
       "    </tr>\n",
       "    <tr>\n",
       "      <th>25%</th>\n",
       "      <td>51553.000000</td>\n",
       "      <td>33.000000</td>\n",
       "      <td>0.000000</td>\n",
       "      <td>59874.000000</td>\n",
       "    </tr>\n",
       "    <tr>\n",
       "      <th>50%</th>\n",
       "      <td>103105.000000</td>\n",
       "      <td>49.000000</td>\n",
       "      <td>1.000000</td>\n",
       "      <td>93547.000000</td>\n",
       "    </tr>\n",
       "    <tr>\n",
       "      <th>75%</th>\n",
       "      <td>154657.000000</td>\n",
       "      <td>66.000000</td>\n",
       "      <td>3.000000</td>\n",
       "      <td>124244.000000</td>\n",
       "    </tr>\n",
       "    <tr>\n",
       "      <th>max</th>\n",
       "      <td>206209.000000</td>\n",
       "      <td>81.000000</td>\n",
       "      <td>3.000000</td>\n",
       "      <td>593901.000000</td>\n",
       "    </tr>\n",
       "  </tbody>\n",
       "</table>\n",
       "</div>"
      ],
      "text/plain": [
       "             user_id            Age   n_dependants         income\n",
       "count  206209.000000  206209.000000  206209.000000  206209.000000\n",
       "mean   103105.000000      49.501646       1.499823   94632.852548\n",
       "std     59527.555167      18.480962       1.118433   42473.786988\n",
       "min         1.000000      18.000000       0.000000   25903.000000\n",
       "25%     51553.000000      33.000000       0.000000   59874.000000\n",
       "50%    103105.000000      49.000000       1.000000   93547.000000\n",
       "75%    154657.000000      66.000000       3.000000  124244.000000\n",
       "max    206209.000000      81.000000       3.000000  593901.000000"
      ]
     },
     "execution_count": 7,
     "metadata": {},
     "output_type": "execute_result"
    }
   ],
   "source": [
    "customer.describe()"
   ]
  },
  {
   "cell_type": "code",
   "execution_count": 8,
   "id": "b8f3aebf-1310-4b9f-98e6-4e24c49b9e96",
   "metadata": {},
   "outputs": [
    {
     "data": {
      "text/plain": [
       "user_id             0\n",
       "First Name      11259\n",
       "Surnam              0\n",
       "Gender              0\n",
       "STATE               0\n",
       "Age                 0\n",
       "date_joined         0\n",
       "n_dependants        0\n",
       "fam_status          0\n",
       "income              0\n",
       "dtype: int64"
      ]
     },
     "execution_count": 8,
     "metadata": {},
     "output_type": "execute_result"
    }
   ],
   "source": [
    "## Searching for missing observations\n",
    "customer.isnull().sum()"
   ]
  },
  {
   "cell_type": "code",
   "execution_count": 10,
   "id": "d8a55b40-4424-43ed-b53a-16d0da0d726e",
   "metadata": {},
   "outputs": [],
   "source": [
    "## Creating a dataframe to see the missing values, containing only those values within the product First Name column that\n",
    "##meet the condition\n",
    "df_nan = customer[customer['First Name'].isnull() == True]"
   ]
  },
  {
   "cell_type": "code",
   "execution_count": 11,
   "id": "ca66043b-46a2-4700-9fe3-c63b9d09d184",
   "metadata": {},
   "outputs": [
    {
     "data": {
      "text/html": [
       "<div>\n",
       "<style scoped>\n",
       "    .dataframe tbody tr th:only-of-type {\n",
       "        vertical-align: middle;\n",
       "    }\n",
       "\n",
       "    .dataframe tbody tr th {\n",
       "        vertical-align: top;\n",
       "    }\n",
       "\n",
       "    .dataframe thead th {\n",
       "        text-align: right;\n",
       "    }\n",
       "</style>\n",
       "<table border=\"1\" class=\"dataframe\">\n",
       "  <thead>\n",
       "    <tr style=\"text-align: right;\">\n",
       "      <th></th>\n",
       "      <th>user_id</th>\n",
       "      <th>First Name</th>\n",
       "      <th>Surnam</th>\n",
       "      <th>Gender</th>\n",
       "      <th>STATE</th>\n",
       "      <th>Age</th>\n",
       "      <th>date_joined</th>\n",
       "      <th>n_dependants</th>\n",
       "      <th>fam_status</th>\n",
       "      <th>income</th>\n",
       "    </tr>\n",
       "  </thead>\n",
       "  <tbody>\n",
       "    <tr>\n",
       "      <th>53</th>\n",
       "      <td>76659</td>\n",
       "      <td>NaN</td>\n",
       "      <td>Gilbert</td>\n",
       "      <td>Male</td>\n",
       "      <td>Colorado</td>\n",
       "      <td>26</td>\n",
       "      <td>1/1/2017</td>\n",
       "      <td>2</td>\n",
       "      <td>married</td>\n",
       "      <td>41709</td>\n",
       "    </tr>\n",
       "    <tr>\n",
       "      <th>73</th>\n",
       "      <td>13738</td>\n",
       "      <td>NaN</td>\n",
       "      <td>Frost</td>\n",
       "      <td>Female</td>\n",
       "      <td>Louisiana</td>\n",
       "      <td>39</td>\n",
       "      <td>1/1/2017</td>\n",
       "      <td>0</td>\n",
       "      <td>single</td>\n",
       "      <td>82518</td>\n",
       "    </tr>\n",
       "    <tr>\n",
       "      <th>82</th>\n",
       "      <td>89996</td>\n",
       "      <td>NaN</td>\n",
       "      <td>Dawson</td>\n",
       "      <td>Female</td>\n",
       "      <td>Oregon</td>\n",
       "      <td>52</td>\n",
       "      <td>1/1/2017</td>\n",
       "      <td>3</td>\n",
       "      <td>married</td>\n",
       "      <td>117099</td>\n",
       "    </tr>\n",
       "    <tr>\n",
       "      <th>99</th>\n",
       "      <td>96166</td>\n",
       "      <td>NaN</td>\n",
       "      <td>Oconnor</td>\n",
       "      <td>Male</td>\n",
       "      <td>Oklahoma</td>\n",
       "      <td>51</td>\n",
       "      <td>1/1/2017</td>\n",
       "      <td>1</td>\n",
       "      <td>married</td>\n",
       "      <td>155673</td>\n",
       "    </tr>\n",
       "    <tr>\n",
       "      <th>105</th>\n",
       "      <td>29778</td>\n",
       "      <td>NaN</td>\n",
       "      <td>Dawson</td>\n",
       "      <td>Female</td>\n",
       "      <td>Utah</td>\n",
       "      <td>63</td>\n",
       "      <td>1/1/2017</td>\n",
       "      <td>3</td>\n",
       "      <td>married</td>\n",
       "      <td>151819</td>\n",
       "    </tr>\n",
       "    <tr>\n",
       "      <th>...</th>\n",
       "      <td>...</td>\n",
       "      <td>...</td>\n",
       "      <td>...</td>\n",
       "      <td>...</td>\n",
       "      <td>...</td>\n",
       "      <td>...</td>\n",
       "      <td>...</td>\n",
       "      <td>...</td>\n",
       "      <td>...</td>\n",
       "      <td>...</td>\n",
       "    </tr>\n",
       "    <tr>\n",
       "      <th>206038</th>\n",
       "      <td>121317</td>\n",
       "      <td>NaN</td>\n",
       "      <td>Melton</td>\n",
       "      <td>Male</td>\n",
       "      <td>Pennsylvania</td>\n",
       "      <td>28</td>\n",
       "      <td>3/31/2020</td>\n",
       "      <td>3</td>\n",
       "      <td>married</td>\n",
       "      <td>87783</td>\n",
       "    </tr>\n",
       "    <tr>\n",
       "      <th>206044</th>\n",
       "      <td>200799</td>\n",
       "      <td>NaN</td>\n",
       "      <td>Copeland</td>\n",
       "      <td>Female</td>\n",
       "      <td>Hawaii</td>\n",
       "      <td>52</td>\n",
       "      <td>4/1/2020</td>\n",
       "      <td>2</td>\n",
       "      <td>married</td>\n",
       "      <td>108488</td>\n",
       "    </tr>\n",
       "    <tr>\n",
       "      <th>206090</th>\n",
       "      <td>167394</td>\n",
       "      <td>NaN</td>\n",
       "      <td>Frost</td>\n",
       "      <td>Female</td>\n",
       "      <td>Hawaii</td>\n",
       "      <td>61</td>\n",
       "      <td>4/1/2020</td>\n",
       "      <td>1</td>\n",
       "      <td>married</td>\n",
       "      <td>45275</td>\n",
       "    </tr>\n",
       "    <tr>\n",
       "      <th>206162</th>\n",
       "      <td>187532</td>\n",
       "      <td>NaN</td>\n",
       "      <td>Floyd</td>\n",
       "      <td>Female</td>\n",
       "      <td>California</td>\n",
       "      <td>39</td>\n",
       "      <td>4/1/2020</td>\n",
       "      <td>0</td>\n",
       "      <td>single</td>\n",
       "      <td>56325</td>\n",
       "    </tr>\n",
       "    <tr>\n",
       "      <th>206171</th>\n",
       "      <td>116898</td>\n",
       "      <td>NaN</td>\n",
       "      <td>Delgado</td>\n",
       "      <td>Female</td>\n",
       "      <td>Colorado</td>\n",
       "      <td>23</td>\n",
       "      <td>4/1/2020</td>\n",
       "      <td>2</td>\n",
       "      <td>married</td>\n",
       "      <td>59222</td>\n",
       "    </tr>\n",
       "  </tbody>\n",
       "</table>\n",
       "<p>11259 rows × 10 columns</p>\n",
       "</div>"
      ],
      "text/plain": [
       "        user_id First Name    Surnam  Gender         STATE  Age date_joined  \\\n",
       "53        76659        NaN   Gilbert    Male      Colorado   26    1/1/2017   \n",
       "73        13738        NaN     Frost  Female     Louisiana   39    1/1/2017   \n",
       "82        89996        NaN    Dawson  Female        Oregon   52    1/1/2017   \n",
       "99        96166        NaN   Oconnor    Male      Oklahoma   51    1/1/2017   \n",
       "105       29778        NaN    Dawson  Female          Utah   63    1/1/2017   \n",
       "...         ...        ...       ...     ...           ...  ...         ...   \n",
       "206038   121317        NaN    Melton    Male  Pennsylvania   28   3/31/2020   \n",
       "206044   200799        NaN  Copeland  Female        Hawaii   52    4/1/2020   \n",
       "206090   167394        NaN     Frost  Female        Hawaii   61    4/1/2020   \n",
       "206162   187532        NaN     Floyd  Female    California   39    4/1/2020   \n",
       "206171   116898        NaN   Delgado  Female      Colorado   23    4/1/2020   \n",
       "\n",
       "        n_dependants fam_status  income  \n",
       "53                 2    married   41709  \n",
       "73                 0     single   82518  \n",
       "82                 3    married  117099  \n",
       "99                 1    married  155673  \n",
       "105                3    married  151819  \n",
       "...              ...        ...     ...  \n",
       "206038             3    married   87783  \n",
       "206044             2    married  108488  \n",
       "206090             1    married   45275  \n",
       "206162             0     single   56325  \n",
       "206171             2    married   59222  \n",
       "\n",
       "[11259 rows x 10 columns]"
      ]
     },
     "execution_count": 11,
     "metadata": {},
     "output_type": "execute_result"
    }
   ],
   "source": [
    "df_nan"
   ]
  },
  {
   "cell_type": "code",
   "execution_count": 12,
   "id": "69058a3b-9878-47c1-8036-502cfdd04f15",
   "metadata": {},
   "outputs": [],
   "source": [
    "## There are 11259 values from 206209 rows that are missing from First Name column"
   ]
  },
  {
   "cell_type": "code",
   "execution_count": 19,
   "id": "452b0361-9094-4309-aa90-b7d295a48172",
   "metadata": {},
   "outputs": [],
   "source": [
    "## finding duplicates \n",
    "df_dups = customer[customer.duplicated()]\n"
   ]
  },
  {
   "cell_type": "code",
   "execution_count": 20,
   "id": "843c6454-512f-4c53-b7cc-40cbd76ad1a6",
   "metadata": {},
   "outputs": [
    {
     "data": {
      "text/html": [
       "<div>\n",
       "<style scoped>\n",
       "    .dataframe tbody tr th:only-of-type {\n",
       "        vertical-align: middle;\n",
       "    }\n",
       "\n",
       "    .dataframe tbody tr th {\n",
       "        vertical-align: top;\n",
       "    }\n",
       "\n",
       "    .dataframe thead th {\n",
       "        text-align: right;\n",
       "    }\n",
       "</style>\n",
       "<table border=\"1\" class=\"dataframe\">\n",
       "  <thead>\n",
       "    <tr style=\"text-align: right;\">\n",
       "      <th></th>\n",
       "      <th>user_id</th>\n",
       "      <th>First Name</th>\n",
       "      <th>Surnam</th>\n",
       "      <th>Gender</th>\n",
       "      <th>STATE</th>\n",
       "      <th>Age</th>\n",
       "      <th>date_joined</th>\n",
       "      <th>n_dependants</th>\n",
       "      <th>fam_status</th>\n",
       "      <th>income</th>\n",
       "    </tr>\n",
       "  </thead>\n",
       "  <tbody>\n",
       "  </tbody>\n",
       "</table>\n",
       "</div>"
      ],
      "text/plain": [
       "Empty DataFrame\n",
       "Columns: [user_id, First Name, Surnam, Gender, STATE, Age, date_joined, n_dependants, fam_status, income]\n",
       "Index: []"
      ]
     },
     "execution_count": 20,
     "metadata": {},
     "output_type": "execute_result"
    }
   ],
   "source": [
    "df_dups"
   ]
  },
  {
   "cell_type": "code",
   "execution_count": 21,
   "id": "47de90c2-8bb6-4bd9-aa85-da3c122fb857",
   "metadata": {},
   "outputs": [],
   "source": [
    "## No duplicates found."
   ]
  },
  {
   "cell_type": "code",
   "execution_count": 22,
   "id": "6512cf60-e0ed-4d77-8161-803268e4ebea",
   "metadata": {},
   "outputs": [
    {
     "name": "stdout",
     "output_type": "stream",
     "text": [
      "First Name\n"
     ]
    }
   ],
   "source": [
    "#Step 3 Cheking for mixed-type data\n",
    "for col in customer.columns.tolist():\n",
    "    weird = (customer[[col]].map(type) != customer[[col]].iloc[0].apply(type)).any(axis = 1)\n",
    "    if len (customer[weird])> 0:\n",
    "        print(col)"
   ]
  },
  {
   "cell_type": "code",
   "execution_count": 23,
   "id": "3a3ec1d3-b86a-471a-82ff-542df5549a1d",
   "metadata": {},
   "outputs": [
    {
     "data": {
      "text/plain": [
       "First Name\n",
       "<class 'str'>      194950\n",
       "<class 'float'>     11259\n",
       "Name: count, dtype: int64"
      ]
     },
     "execution_count": 23,
     "metadata": {},
     "output_type": "execute_result"
    }
   ],
   "source": [
    "## Counting values mixed-type data \n",
    "customer['First Name'].apply(type).value_counts()"
   ]
  },
  {
   "cell_type": "code",
   "execution_count": 24,
   "id": "5ec920ea-4ce8-414d-87ac-6b59c7b26238",
   "metadata": {},
   "outputs": [],
   "source": [
    "## Normalizing mixed-type column\n",
    "customer['First Name'] = customer['First Name'].apply(lambda x: str(x) if pd.notnull(x) else x)"
   ]
  },
  {
   "cell_type": "code",
   "execution_count": 25,
   "id": "2a0bdf02-6aa7-4403-bfba-070de45147c2",
   "metadata": {},
   "outputs": [
    {
     "name": "stdout",
     "output_type": "stream",
     "text": [
      "<class 'pandas.core.frame.DataFrame'>\n",
      "RangeIndex: 206209 entries, 0 to 206208\n",
      "Data columns (total 10 columns):\n",
      " #   Column        Non-Null Count   Dtype \n",
      "---  ------        --------------   ----- \n",
      " 0   user_id       206209 non-null  int64 \n",
      " 1   First Name    194950 non-null  object\n",
      " 2   Surnam        206209 non-null  object\n",
      " 3   Gender        206209 non-null  object\n",
      " 4   STATE         206209 non-null  object\n",
      " 5   Age           206209 non-null  int64 \n",
      " 6   date_joined   206209 non-null  object\n",
      " 7   n_dependants  206209 non-null  int64 \n",
      " 8   fam_status    206209 non-null  object\n",
      " 9   income        206209 non-null  int64 \n",
      "dtypes: int64(4), object(6)\n",
      "memory usage: 15.7+ MB\n"
     ]
    }
   ],
   "source": [
    "## Checking\n",
    "customer.info()"
   ]
  },
  {
   "cell_type": "code",
   "execution_count": 27,
   "id": "99784d36-100e-4385-9e57-4997c52dc1f3",
   "metadata": {},
   "outputs": [],
   "source": [
    "## Checking and fixing typo error\n",
    "customer.rename(columns={'Surnam': 'surname'}, inplace=True)"
   ]
  },
  {
   "cell_type": "code",
   "execution_count": 28,
   "id": "ba451bb8-3ee1-4e73-b67c-77445f8fe316",
   "metadata": {},
   "outputs": [],
   "source": [
    "customer.rename(columns={'First Name': 'first_name'}, inplace=True)"
   ]
  },
  {
   "cell_type": "code",
   "execution_count": 29,
   "id": "43fb417f-665e-44cd-8e30-acde7cb18ac4",
   "metadata": {},
   "outputs": [],
   "source": [
    "customer.rename(columns={'STATE': 'state'}, inplace=True)"
   ]
  },
  {
   "cell_type": "code",
   "execution_count": 30,
   "id": "f8cf9bd5-7b8d-47e0-bd43-9b2ccc20bba4",
   "metadata": {},
   "outputs": [],
   "source": [
    "customer.rename(columns={'Age': 'age'}, inplace=True)"
   ]
  },
  {
   "cell_type": "code",
   "execution_count": 31,
   "id": "8c4f4284-9f25-4c69-9d77-3129b91c38ca",
   "metadata": {},
   "outputs": [],
   "source": [
    "customer.rename(columns={'Gender': 'gender'}, inplace=True)"
   ]
  },
  {
   "cell_type": "code",
   "execution_count": 32,
   "id": "39423309-b686-4acc-9568-b473f983cc9e",
   "metadata": {},
   "outputs": [
    {
     "name": "stdout",
     "output_type": "stream",
     "text": [
      "<class 'pandas.core.frame.DataFrame'>\n",
      "RangeIndex: 206209 entries, 0 to 206208\n",
      "Data columns (total 10 columns):\n",
      " #   Column        Non-Null Count   Dtype \n",
      "---  ------        --------------   ----- \n",
      " 0   user_id       206209 non-null  int64 \n",
      " 1   first_name    194950 non-null  object\n",
      " 2   Surname       206209 non-null  object\n",
      " 3   gender        206209 non-null  object\n",
      " 4   state         206209 non-null  object\n",
      " 5   age           206209 non-null  int64 \n",
      " 6   date_joined   206209 non-null  object\n",
      " 7   n_dependants  206209 non-null  int64 \n",
      " 8   fam_status    206209 non-null  object\n",
      " 9   income        206209 non-null  int64 \n",
      "dtypes: int64(4), object(6)\n",
      "memory usage: 15.7+ MB\n"
     ]
    }
   ],
   "source": [
    "## Checking\n",
    "customer.info()"
   ]
  },
  {
   "cell_type": "code",
   "execution_count": 33,
   "id": "80fc9e59-657b-4d42-b77f-a463e54d34dc",
   "metadata": {},
   "outputs": [],
   "source": [
    "##Change Data Type user_id due to no need of these as values\n",
    "customer['user_id'] = customer['user_id'].astype(str)"
   ]
  },
  {
   "cell_type": "code",
   "execution_count": 34,
   "id": "a203ff6e-a1df-45c3-adce-93e9bfcc6dc7",
   "metadata": {},
   "outputs": [
    {
     "data": {
      "text/html": [
       "<div>\n",
       "<style scoped>\n",
       "    .dataframe tbody tr th:only-of-type {\n",
       "        vertical-align: middle;\n",
       "    }\n",
       "\n",
       "    .dataframe tbody tr th {\n",
       "        vertical-align: top;\n",
       "    }\n",
       "\n",
       "    .dataframe thead th {\n",
       "        text-align: right;\n",
       "    }\n",
       "</style>\n",
       "<table border=\"1\" class=\"dataframe\">\n",
       "  <thead>\n",
       "    <tr style=\"text-align: right;\">\n",
       "      <th></th>\n",
       "      <th>age</th>\n",
       "      <th>n_dependants</th>\n",
       "      <th>income</th>\n",
       "    </tr>\n",
       "  </thead>\n",
       "  <tbody>\n",
       "    <tr>\n",
       "      <th>count</th>\n",
       "      <td>206209.000000</td>\n",
       "      <td>206209.000000</td>\n",
       "      <td>206209.000000</td>\n",
       "    </tr>\n",
       "    <tr>\n",
       "      <th>mean</th>\n",
       "      <td>49.501646</td>\n",
       "      <td>1.499823</td>\n",
       "      <td>94632.852548</td>\n",
       "    </tr>\n",
       "    <tr>\n",
       "      <th>std</th>\n",
       "      <td>18.480962</td>\n",
       "      <td>1.118433</td>\n",
       "      <td>42473.786988</td>\n",
       "    </tr>\n",
       "    <tr>\n",
       "      <th>min</th>\n",
       "      <td>18.000000</td>\n",
       "      <td>0.000000</td>\n",
       "      <td>25903.000000</td>\n",
       "    </tr>\n",
       "    <tr>\n",
       "      <th>25%</th>\n",
       "      <td>33.000000</td>\n",
       "      <td>0.000000</td>\n",
       "      <td>59874.000000</td>\n",
       "    </tr>\n",
       "    <tr>\n",
       "      <th>50%</th>\n",
       "      <td>49.000000</td>\n",
       "      <td>1.000000</td>\n",
       "      <td>93547.000000</td>\n",
       "    </tr>\n",
       "    <tr>\n",
       "      <th>75%</th>\n",
       "      <td>66.000000</td>\n",
       "      <td>3.000000</td>\n",
       "      <td>124244.000000</td>\n",
       "    </tr>\n",
       "    <tr>\n",
       "      <th>max</th>\n",
       "      <td>81.000000</td>\n",
       "      <td>3.000000</td>\n",
       "      <td>593901.000000</td>\n",
       "    </tr>\n",
       "  </tbody>\n",
       "</table>\n",
       "</div>"
      ],
      "text/plain": [
       "                 age   n_dependants         income\n",
       "count  206209.000000  206209.000000  206209.000000\n",
       "mean       49.501646       1.499823   94632.852548\n",
       "std        18.480962       1.118433   42473.786988\n",
       "min        18.000000       0.000000   25903.000000\n",
       "25%        33.000000       0.000000   59874.000000\n",
       "50%        49.000000       1.000000   93547.000000\n",
       "75%        66.000000       3.000000  124244.000000\n",
       "max        81.000000       3.000000  593901.000000"
      ]
     },
     "execution_count": 34,
     "metadata": {},
     "output_type": "execute_result"
    }
   ],
   "source": [
    "customer.describe()"
   ]
  },
  {
   "cell_type": "code",
   "execution_count": 35,
   "id": "f7f74254-3591-460a-afdf-8da607761eeb",
   "metadata": {},
   "outputs": [],
   "source": [
    "## Changuing Data Type of Date \n",
    "customer['date_joined'] = pd.to_datetime(customer['date_joined'], errors='coerce')"
   ]
  },
  {
   "cell_type": "code",
   "execution_count": 36,
   "id": "dfa8ec2d-bebc-47e5-b784-0c3d6a3d2895",
   "metadata": {},
   "outputs": [
    {
     "data": {
      "text/plain": [
       "dtype('<M8[ns]')"
      ]
     },
     "execution_count": 36,
     "metadata": {},
     "output_type": "execute_result"
    }
   ],
   "source": [
    "customer['date_joined'].dtype"
   ]
  },
  {
   "cell_type": "code",
   "execution_count": 38,
   "id": "df882c68-065c-4ca5-82c2-4f30a439de99",
   "metadata": {},
   "outputs": [
    {
     "data": {
      "text/plain": [
       "0    2017-01-01\n",
       "1    2017-01-01\n",
       "2    2017-01-01\n",
       "3    2017-01-01\n",
       "4    2017-01-01\n",
       "        ...    \n",
       "95   2017-01-01\n",
       "96   2017-01-01\n",
       "97   2017-01-01\n",
       "98   2017-01-01\n",
       "99   2017-01-01\n",
       "Name: date_joined, Length: 100, dtype: datetime64[ns]"
      ]
     },
     "execution_count": 38,
     "metadata": {},
     "output_type": "execute_result"
    }
   ],
   "source": [
    "customer['date_joined'].head(100)"
   ]
  },
  {
   "cell_type": "code",
   "execution_count": 39,
   "id": "cd9d9527-f619-40fb-a8c3-8df997f8ac51",
   "metadata": {},
   "outputs": [
    {
     "data": {
      "text/plain": [
       "date_joined\n",
       "<class 'pandas._libs.tslibs.timestamps.Timestamp'>    206209\n",
       "Name: count, dtype: int64"
      ]
     },
     "execution_count": 39,
     "metadata": {},
     "output_type": "execute_result"
    }
   ],
   "source": [
    "## Counting values mixed-type data \n",
    "customer['date_joined'].apply(type).value_counts()"
   ]
  },
  {
   "cell_type": "code",
   "execution_count": 41,
   "id": "706dd3ad-49a0-4027-98ea-c98d897fc463",
   "metadata": {},
   "outputs": [
    {
     "data": {
      "text/plain": [
       "date_joined\n",
       "2017-01-01    159\n",
       "2017-01-02    154\n",
       "2017-01-03    169\n",
       "2017-01-04    188\n",
       "2017-01-05    177\n",
       "             ... \n",
       "2020-03-28    197\n",
       "2020-03-29    171\n",
       "2020-03-30    165\n",
       "2020-03-31    149\n",
       "2020-04-01    169\n",
       "Name: count, Length: 1187, dtype: int64"
      ]
     },
     "execution_count": 41,
     "metadata": {},
     "output_type": "execute_result"
    }
   ],
   "source": [
    "## Count of values\n",
    "customer['date_joined'].value_counts().sort_index()\n"
   ]
  },
  {
   "cell_type": "code",
   "execution_count": 43,
   "id": "fa313e3c-ca3d-48d6-aca3-988b6b761a38",
   "metadata": {},
   "outputs": [],
   "source": [
    "## Exporting DataFrame\n",
    "customer.to_csv(os.path.join(path, '02 Data','Prepared Data', 'customer.csv'))"
   ]
  },
  {
   "cell_type": "code",
   "execution_count": 45,
   "id": "04f7d38e-1498-4156-b51c-f0444ef0cd07",
   "metadata": {},
   "outputs": [],
   "source": [
    "## Importing Data set ords_prods_merge\n",
    "ords_prods = pd.read_pickle(r'/Users/javieraquezada/Desktop/05-2025 Instacart Basket Analysis/02 Data/Prepared Data/ords_prods_merge_new_variables3.pkl')"
   ]
  },
  {
   "cell_type": "code",
   "execution_count": 46,
   "id": "7b8057ba-6cbe-451e-85bf-43580c1c3f87",
   "metadata": {},
   "outputs": [
    {
     "name": "stdout",
     "output_type": "stream",
     "text": [
      "Index(['user_id', 'first_name', 'Surname', 'gender', 'state', 'age',\n",
      "       'date_joined', 'n_dependants', 'fam_status', 'income'],\n",
      "      dtype='object')\n",
      "Index(['Unnamed: 0_x', 'order_id', 'user_id', 'order_number',\n",
      "       'orders_day_of_week', 'order_hour_of_day', 'days_since_prior_order',\n",
      "       'product_id', 'add_to_cart_order', 'reordered', '_merge',\n",
      "       'Unnamed: 0_y', 'product_name', 'aisle_id', 'department_id', 'prices',\n",
      "       'price_range_loc', 'busiest_day', 'busiest_days', 'busiests_days',\n",
      "       'busiest_period_of_day', 'max_order', 'loyalty_flag',\n",
      "       'mean_price_order', 'mean_prices', 'spending_flag',\n",
      "       'median_days_since_prior_order', 'order_frequency_flag'],\n",
      "      dtype='object')\n"
     ]
    }
   ],
   "source": [
    "# Verifying key\n",
    "print(customer.columns)\n",
    "print(ords_prods.columns)"
   ]
  },
  {
   "cell_type": "code",
   "execution_count": 47,
   "id": "aace3d43-76fb-4085-ae9b-a2e4722d2fdd",
   "metadata": {},
   "outputs": [],
   "source": [
    "## Checking and fixing typo error\n",
    "customer.rename(columns={'Surname': 'surname'}, inplace=True)"
   ]
  },
  {
   "cell_type": "code",
   "execution_count": 48,
   "id": "356765ef-62a1-4a41-aaad-3744935e29ec",
   "metadata": {},
   "outputs": [
    {
     "name": "stdout",
     "output_type": "stream",
     "text": [
      "Index(['user_id', 'first_name', 'surname', 'gender', 'state', 'age',\n",
      "       'date_joined', 'n_dependants', 'fam_status', 'income'],\n",
      "      dtype='object')\n",
      "Index(['Unnamed: 0_x', 'order_id', 'user_id', 'order_number',\n",
      "       'orders_day_of_week', 'order_hour_of_day', 'days_since_prior_order',\n",
      "       'product_id', 'add_to_cart_order', 'reordered', '_merge',\n",
      "       'Unnamed: 0_y', 'product_name', 'aisle_id', 'department_id', 'prices',\n",
      "       'price_range_loc', 'busiest_day', 'busiest_days', 'busiests_days',\n",
      "       'busiest_period_of_day', 'max_order', 'loyalty_flag',\n",
      "       'mean_price_order', 'mean_prices', 'spending_flag',\n",
      "       'median_days_since_prior_order', 'order_frequency_flag'],\n",
      "      dtype='object')\n"
     ]
    }
   ],
   "source": [
    "# Verifying key\n",
    "print(customer.columns)\n",
    "print(ords_prods.columns)"
   ]
  },
  {
   "cell_type": "code",
   "execution_count": 49,
   "id": "339e0c5e-3dcd-4c44-ac5a-939e92bf5e1a",
   "metadata": {},
   "outputs": [
    {
     "ename": "ValueError",
     "evalue": "You are trying to merge on int64 and object columns for key 'user_id'. If you wish to proceed you should use pd.concat",
     "output_type": "error",
     "traceback": [
      "\u001b[0;31m---------------------------------------------------------------------------\u001b[0m",
      "\u001b[0;31mValueError\u001b[0m                                Traceback (most recent call last)",
      "Cell \u001b[0;32mIn[49], line 2\u001b[0m\n\u001b[1;32m      1\u001b[0m \u001b[38;5;66;03m## merging data sets in user_id\u001b[39;00m\n\u001b[0;32m----> 2\u001b[0m df_merged \u001b[38;5;241m=\u001b[39m pd\u001b[38;5;241m.\u001b[39mmerge(ords_prods, customer, on\u001b[38;5;241m=\u001b[39m\u001b[38;5;124m'\u001b[39m\u001b[38;5;124muser_id\u001b[39m\u001b[38;5;124m'\u001b[39m, how\u001b[38;5;241m=\u001b[39m\u001b[38;5;124m'\u001b[39m\u001b[38;5;124mleft\u001b[39m\u001b[38;5;124m'\u001b[39m)\n",
      "File \u001b[0;32m/opt/anaconda3/lib/python3.12/site-packages/pandas/core/reshape/merge.py:170\u001b[0m, in \u001b[0;36mmerge\u001b[0;34m(left, right, how, on, left_on, right_on, left_index, right_index, sort, suffixes, copy, indicator, validate)\u001b[0m\n\u001b[1;32m    155\u001b[0m     \u001b[38;5;28;01mreturn\u001b[39;00m _cross_merge(\n\u001b[1;32m    156\u001b[0m         left_df,\n\u001b[1;32m    157\u001b[0m         right_df,\n\u001b[0;32m   (...)\u001b[0m\n\u001b[1;32m    167\u001b[0m         copy\u001b[38;5;241m=\u001b[39mcopy,\n\u001b[1;32m    168\u001b[0m     )\n\u001b[1;32m    169\u001b[0m \u001b[38;5;28;01melse\u001b[39;00m:\n\u001b[0;32m--> 170\u001b[0m     op \u001b[38;5;241m=\u001b[39m _MergeOperation(\n\u001b[1;32m    171\u001b[0m         left_df,\n\u001b[1;32m    172\u001b[0m         right_df,\n\u001b[1;32m    173\u001b[0m         how\u001b[38;5;241m=\u001b[39mhow,\n\u001b[1;32m    174\u001b[0m         on\u001b[38;5;241m=\u001b[39mon,\n\u001b[1;32m    175\u001b[0m         left_on\u001b[38;5;241m=\u001b[39mleft_on,\n\u001b[1;32m    176\u001b[0m         right_on\u001b[38;5;241m=\u001b[39mright_on,\n\u001b[1;32m    177\u001b[0m         left_index\u001b[38;5;241m=\u001b[39mleft_index,\n\u001b[1;32m    178\u001b[0m         right_index\u001b[38;5;241m=\u001b[39mright_index,\n\u001b[1;32m    179\u001b[0m         sort\u001b[38;5;241m=\u001b[39msort,\n\u001b[1;32m    180\u001b[0m         suffixes\u001b[38;5;241m=\u001b[39msuffixes,\n\u001b[1;32m    181\u001b[0m         indicator\u001b[38;5;241m=\u001b[39mindicator,\n\u001b[1;32m    182\u001b[0m         validate\u001b[38;5;241m=\u001b[39mvalidate,\n\u001b[1;32m    183\u001b[0m     )\n\u001b[1;32m    184\u001b[0m     \u001b[38;5;28;01mreturn\u001b[39;00m op\u001b[38;5;241m.\u001b[39mget_result(copy\u001b[38;5;241m=\u001b[39mcopy)\n",
      "File \u001b[0;32m/opt/anaconda3/lib/python3.12/site-packages/pandas/core/reshape/merge.py:807\u001b[0m, in \u001b[0;36m_MergeOperation.__init__\u001b[0;34m(self, left, right, how, on, left_on, right_on, left_index, right_index, sort, suffixes, indicator, validate)\u001b[0m\n\u001b[1;32m    803\u001b[0m \u001b[38;5;28mself\u001b[39m\u001b[38;5;241m.\u001b[39m_validate_tolerance(\u001b[38;5;28mself\u001b[39m\u001b[38;5;241m.\u001b[39mleft_join_keys)\n\u001b[1;32m    805\u001b[0m \u001b[38;5;66;03m# validate the merge keys dtypes. We may need to coerce\u001b[39;00m\n\u001b[1;32m    806\u001b[0m \u001b[38;5;66;03m# to avoid incompatible dtypes\u001b[39;00m\n\u001b[0;32m--> 807\u001b[0m \u001b[38;5;28mself\u001b[39m\u001b[38;5;241m.\u001b[39m_maybe_coerce_merge_keys()\n\u001b[1;32m    809\u001b[0m \u001b[38;5;66;03m# If argument passed to validate,\u001b[39;00m\n\u001b[1;32m    810\u001b[0m \u001b[38;5;66;03m# check if columns specified as unique\u001b[39;00m\n\u001b[1;32m    811\u001b[0m \u001b[38;5;66;03m# are in fact unique.\u001b[39;00m\n\u001b[1;32m    812\u001b[0m \u001b[38;5;28;01mif\u001b[39;00m validate \u001b[38;5;129;01mis\u001b[39;00m \u001b[38;5;129;01mnot\u001b[39;00m \u001b[38;5;28;01mNone\u001b[39;00m:\n",
      "File \u001b[0;32m/opt/anaconda3/lib/python3.12/site-packages/pandas/core/reshape/merge.py:1508\u001b[0m, in \u001b[0;36m_MergeOperation._maybe_coerce_merge_keys\u001b[0;34m(self)\u001b[0m\n\u001b[1;32m   1502\u001b[0m     \u001b[38;5;66;03m# unless we are merging non-string-like with string-like\u001b[39;00m\n\u001b[1;32m   1503\u001b[0m     \u001b[38;5;28;01melif\u001b[39;00m (\n\u001b[1;32m   1504\u001b[0m         inferred_left \u001b[38;5;129;01min\u001b[39;00m string_types \u001b[38;5;129;01mand\u001b[39;00m inferred_right \u001b[38;5;129;01mnot\u001b[39;00m \u001b[38;5;129;01min\u001b[39;00m string_types\n\u001b[1;32m   1505\u001b[0m     ) \u001b[38;5;129;01mor\u001b[39;00m (\n\u001b[1;32m   1506\u001b[0m         inferred_right \u001b[38;5;129;01min\u001b[39;00m string_types \u001b[38;5;129;01mand\u001b[39;00m inferred_left \u001b[38;5;129;01mnot\u001b[39;00m \u001b[38;5;129;01min\u001b[39;00m string_types\n\u001b[1;32m   1507\u001b[0m     ):\n\u001b[0;32m-> 1508\u001b[0m         \u001b[38;5;28;01mraise\u001b[39;00m \u001b[38;5;167;01mValueError\u001b[39;00m(msg)\n\u001b[1;32m   1510\u001b[0m \u001b[38;5;66;03m# datetimelikes must match exactly\u001b[39;00m\n\u001b[1;32m   1511\u001b[0m \u001b[38;5;28;01melif\u001b[39;00m needs_i8_conversion(lk\u001b[38;5;241m.\u001b[39mdtype) \u001b[38;5;129;01mand\u001b[39;00m \u001b[38;5;129;01mnot\u001b[39;00m needs_i8_conversion(rk\u001b[38;5;241m.\u001b[39mdtype):\n",
      "\u001b[0;31mValueError\u001b[0m: You are trying to merge on int64 and object columns for key 'user_id'. If you wish to proceed you should use pd.concat"
     ]
    }
   ],
   "source": [
    "## merging data sets in user_id\n",
    "df_merged = pd.merge(ords_prods, customer, on='user_id', how='left')\n"
   ]
  },
  {
   "cell_type": "code",
   "execution_count": 50,
   "id": "93a6dc71-180e-4cee-80af-2d1747899643",
   "metadata": {},
   "outputs": [
    {
     "data": {
      "text/plain": [
       "0"
      ]
     },
     "execution_count": 50,
     "metadata": {},
     "output_type": "execute_result"
    }
   ],
   "source": [
    "## Checking for null values\n",
    "customer['user_id'].isnull().sum()\n",
    "ords_prods['user_id'].isnull().sum()"
   ]
  },
  {
   "cell_type": "code",
   "execution_count": 51,
   "id": "a314a807-ff77-4b3b-a83b-08d8dfc946cd",
   "metadata": {},
   "outputs": [],
   "source": [
    "## Changing data type to match in key\n",
    "customer['user_id'] = customer['user_id'].astype(int)\n",
    "ords_prods['user_id'] = ords_prods['user_id'].astype(int)"
   ]
  },
  {
   "cell_type": "code",
   "execution_count": 59,
   "id": "ad1e5576-c35e-479d-a516-80dab82a5a01",
   "metadata": {},
   "outputs": [
    {
     "name": "stdout",
     "output_type": "stream",
     "text": [
      "user_id                  int64\n",
      "first_name              object\n",
      "surname                 object\n",
      "gender                  object\n",
      "state                   object\n",
      "age                      int64\n",
      "date_joined     datetime64[ns]\n",
      "n_dependants             int64\n",
      "fam_status              object\n",
      "income                   int64\n",
      "dtype: object\n"
     ]
    }
   ],
   "source": [
    "## Checking\n",
    "print(customer.dtypes)"
   ]
  },
  {
   "cell_type": "code",
   "execution_count": 57,
   "id": "42fd2228-227b-4e91-a47b-3aababde552c",
   "metadata": {},
   "outputs": [
    {
     "name": "stdout",
     "output_type": "stream",
     "text": [
      "Unnamed: 0_x                        int64\n",
      "order_id                            int64\n",
      "user_id                             int64\n",
      "order_number                        int64\n",
      "orders_day_of_week                  int64\n",
      "order_hour_of_day                   int64\n",
      "days_since_prior_order            float64\n",
      "product_id                          int64\n",
      "add_to_cart_order                   int64\n",
      "reordered                           int64\n",
      "_merge                           category\n",
      "Unnamed: 0_y                      float64\n",
      "product_name                       object\n",
      "aisle_id                          float64\n",
      "department_id                     float64\n",
      "prices                            float64\n",
      "price_range_loc                    object\n",
      "busiest_day                        object\n",
      "busiest_days                       object\n",
      "busiests_days                      object\n",
      "busiest_period_of_day              object\n",
      "max_order                           int64\n",
      "loyalty_flag                       object\n",
      "mean_price_order                  float64\n",
      "mean_prices                       float64\n",
      "spending_flag                      object\n",
      "median_days_since_prior_order     float64\n",
      "order_frequency_flag               object\n",
      "dtype: object\n"
     ]
    }
   ],
   "source": [
    "print(ords_prods.dtypes)"
   ]
  },
  {
   "cell_type": "code",
   "execution_count": 61,
   "id": "65df558f-0a14-49c9-b7e8-f8cc0e1d2989",
   "metadata": {},
   "outputs": [],
   "source": [
    "## Attempt 2 merging data sets in user_id\n",
    "df_merged = pd.merge(ords_prods, customer, on='user_id', how='left')"
   ]
  },
  {
   "cell_type": "code",
   "execution_count": 63,
   "id": "70810076-9b02-4697-a564-6ab3837b0fd6",
   "metadata": {},
   "outputs": [
    {
     "data": {
      "text/plain": [
       "(31987181, 37)"
      ]
     },
     "execution_count": 63,
     "metadata": {},
     "output_type": "execute_result"
    }
   ],
   "source": [
    "## Consistency Checks\n",
    "df_merged.shape"
   ]
  },
  {
   "cell_type": "code",
   "execution_count": 64,
   "id": "461d3be7-06d5-4a19-aa73-589e538de7ab",
   "metadata": {},
   "outputs": [
    {
     "data": {
      "text/plain": [
       "0"
      ]
     },
     "execution_count": 64,
     "metadata": {},
     "output_type": "execute_result"
    }
   ],
   "source": [
    "## Checking for duplicates\n",
    "df_merged.duplicated().sum()"
   ]
  },
  {
   "cell_type": "code",
   "execution_count": 65,
   "id": "bfdb2244-e9f1-4a57-9bb3-389773e02e85",
   "metadata": {},
   "outputs": [
    {
     "data": {
      "text/plain": [
       "Unnamed: 0_x                           0\n",
       "order_id                               0\n",
       "user_id                                0\n",
       "order_number                           0\n",
       "orders_day_of_week                     0\n",
       "order_hour_of_day                      0\n",
       "days_since_prior_order           2048263\n",
       "product_id                             0\n",
       "add_to_cart_order                      0\n",
       "reordered                              0\n",
       "_merge                                 0\n",
       "Unnamed: 0_y                           0\n",
       "product_name                           0\n",
       "aisle_id                               0\n",
       "department_id                          0\n",
       "prices                                 0\n",
       "price_range_loc                        0\n",
       "busiest_day                            0\n",
       "busiest_days                           0\n",
       "busiests_days                          0\n",
       "busiest_period_of_day                  0\n",
       "max_order                              0\n",
       "loyalty_flag                           0\n",
       "mean_price_order                       0\n",
       "mean_prices                            0\n",
       "spending_flag                          0\n",
       "median_days_since_prior_order          6\n",
       "order_frequency_flag                   6\n",
       "first_name                       1752906\n",
       "surname                                0\n",
       "gender                                 0\n",
       "state                                  0\n",
       "age                                    0\n",
       "date_joined                            0\n",
       "n_dependants                           0\n",
       "fam_status                             0\n",
       "income                                 0\n",
       "dtype: int64"
      ]
     },
     "execution_count": 65,
     "metadata": {},
     "output_type": "execute_result"
    }
   ],
   "source": [
    "## Checking for null values\n",
    "df_merged.isnull().sum()"
   ]
  },
  {
   "cell_type": "code",
   "execution_count": 66,
   "id": "e2ff7e22-6992-4787-8203-02d073630815",
   "metadata": {},
   "outputs": [
    {
     "data": {
      "text/html": [
       "<div>\n",
       "<style scoped>\n",
       "    .dataframe tbody tr th:only-of-type {\n",
       "        vertical-align: middle;\n",
       "    }\n",
       "\n",
       "    .dataframe tbody tr th {\n",
       "        vertical-align: top;\n",
       "    }\n",
       "\n",
       "    .dataframe thead th {\n",
       "        text-align: right;\n",
       "    }\n",
       "</style>\n",
       "<table border=\"1\" class=\"dataframe\">\n",
       "  <thead>\n",
       "    <tr style=\"text-align: right;\">\n",
       "      <th></th>\n",
       "      <th>Unnamed: 0_x</th>\n",
       "      <th>order_id</th>\n",
       "      <th>user_id</th>\n",
       "      <th>order_number</th>\n",
       "      <th>orders_day_of_week</th>\n",
       "      <th>order_hour_of_day</th>\n",
       "      <th>days_since_prior_order</th>\n",
       "      <th>product_id</th>\n",
       "      <th>add_to_cart_order</th>\n",
       "      <th>reordered</th>\n",
       "      <th>...</th>\n",
       "      <th>order_frequency_flag</th>\n",
       "      <th>first_name</th>\n",
       "      <th>surname</th>\n",
       "      <th>gender</th>\n",
       "      <th>state</th>\n",
       "      <th>age</th>\n",
       "      <th>date_joined</th>\n",
       "      <th>n_dependants</th>\n",
       "      <th>fam_status</th>\n",
       "      <th>income</th>\n",
       "    </tr>\n",
       "  </thead>\n",
       "  <tbody>\n",
       "    <tr>\n",
       "      <th>24832518</th>\n",
       "      <td>2655584</td>\n",
       "      <td>895835</td>\n",
       "      <td>159838</td>\n",
       "      <td>1</td>\n",
       "      <td>0</td>\n",
       "      <td>17</td>\n",
       "      <td>NaN</td>\n",
       "      <td>22198</td>\n",
       "      <td>1</td>\n",
       "      <td>0</td>\n",
       "      <td>...</td>\n",
       "      <td>NaN</td>\n",
       "      <td>Jason</td>\n",
       "      <td>Nava</td>\n",
       "      <td>Male</td>\n",
       "      <td>Arkansas</td>\n",
       "      <td>63</td>\n",
       "      <td>2018-11-09</td>\n",
       "      <td>3</td>\n",
       "      <td>married</td>\n",
       "      <td>140994</td>\n",
       "    </tr>\n",
       "    <tr>\n",
       "      <th>24832519</th>\n",
       "      <td>2655584</td>\n",
       "      <td>895835</td>\n",
       "      <td>159838</td>\n",
       "      <td>1</td>\n",
       "      <td>0</td>\n",
       "      <td>17</td>\n",
       "      <td>NaN</td>\n",
       "      <td>23695</td>\n",
       "      <td>2</td>\n",
       "      <td>0</td>\n",
       "      <td>...</td>\n",
       "      <td>NaN</td>\n",
       "      <td>Jason</td>\n",
       "      <td>Nava</td>\n",
       "      <td>Male</td>\n",
       "      <td>Arkansas</td>\n",
       "      <td>63</td>\n",
       "      <td>2018-11-09</td>\n",
       "      <td>3</td>\n",
       "      <td>married</td>\n",
       "      <td>140994</td>\n",
       "    </tr>\n",
       "    <tr>\n",
       "      <th>24832520</th>\n",
       "      <td>2655584</td>\n",
       "      <td>895835</td>\n",
       "      <td>159838</td>\n",
       "      <td>1</td>\n",
       "      <td>0</td>\n",
       "      <td>17</td>\n",
       "      <td>NaN</td>\n",
       "      <td>10749</td>\n",
       "      <td>3</td>\n",
       "      <td>0</td>\n",
       "      <td>...</td>\n",
       "      <td>NaN</td>\n",
       "      <td>Jason</td>\n",
       "      <td>Nava</td>\n",
       "      <td>Male</td>\n",
       "      <td>Arkansas</td>\n",
       "      <td>63</td>\n",
       "      <td>2018-11-09</td>\n",
       "      <td>3</td>\n",
       "      <td>married</td>\n",
       "      <td>140994</td>\n",
       "    </tr>\n",
       "    <tr>\n",
       "      <th>24832521</th>\n",
       "      <td>2655584</td>\n",
       "      <td>895835</td>\n",
       "      <td>159838</td>\n",
       "      <td>1</td>\n",
       "      <td>0</td>\n",
       "      <td>17</td>\n",
       "      <td>NaN</td>\n",
       "      <td>21334</td>\n",
       "      <td>5</td>\n",
       "      <td>0</td>\n",
       "      <td>...</td>\n",
       "      <td>NaN</td>\n",
       "      <td>Jason</td>\n",
       "      <td>Nava</td>\n",
       "      <td>Male</td>\n",
       "      <td>Arkansas</td>\n",
       "      <td>63</td>\n",
       "      <td>2018-11-09</td>\n",
       "      <td>3</td>\n",
       "      <td>married</td>\n",
       "      <td>140994</td>\n",
       "    </tr>\n",
       "    <tr>\n",
       "      <th>24832522</th>\n",
       "      <td>2655584</td>\n",
       "      <td>895835</td>\n",
       "      <td>159838</td>\n",
       "      <td>1</td>\n",
       "      <td>0</td>\n",
       "      <td>17</td>\n",
       "      <td>NaN</td>\n",
       "      <td>33401</td>\n",
       "      <td>6</td>\n",
       "      <td>0</td>\n",
       "      <td>...</td>\n",
       "      <td>NaN</td>\n",
       "      <td>Jason</td>\n",
       "      <td>Nava</td>\n",
       "      <td>Male</td>\n",
       "      <td>Arkansas</td>\n",
       "      <td>63</td>\n",
       "      <td>2018-11-09</td>\n",
       "      <td>3</td>\n",
       "      <td>married</td>\n",
       "      <td>140994</td>\n",
       "    </tr>\n",
       "    <tr>\n",
       "      <th>26215001</th>\n",
       "      <td>2801826</td>\n",
       "      <td>824952</td>\n",
       "      <td>169017</td>\n",
       "      <td>1</td>\n",
       "      <td>5</td>\n",
       "      <td>13</td>\n",
       "      <td>NaN</td>\n",
       "      <td>49621</td>\n",
       "      <td>1</td>\n",
       "      <td>0</td>\n",
       "      <td>...</td>\n",
       "      <td>NaN</td>\n",
       "      <td>Marie</td>\n",
       "      <td>Medrano</td>\n",
       "      <td>Female</td>\n",
       "      <td>Arizona</td>\n",
       "      <td>26</td>\n",
       "      <td>2017-06-01</td>\n",
       "      <td>1</td>\n",
       "      <td>married</td>\n",
       "      <td>78169</td>\n",
       "    </tr>\n",
       "  </tbody>\n",
       "</table>\n",
       "<p>6 rows × 37 columns</p>\n",
       "</div>"
      ],
      "text/plain": [
       "          Unnamed: 0_x  order_id  user_id  order_number  orders_day_of_week  \\\n",
       "24832518       2655584    895835   159838             1                   0   \n",
       "24832519       2655584    895835   159838             1                   0   \n",
       "24832520       2655584    895835   159838             1                   0   \n",
       "24832521       2655584    895835   159838             1                   0   \n",
       "24832522       2655584    895835   159838             1                   0   \n",
       "26215001       2801826    824952   169017             1                   5   \n",
       "\n",
       "          order_hour_of_day  days_since_prior_order  product_id  \\\n",
       "24832518                 17                     NaN       22198   \n",
       "24832519                 17                     NaN       23695   \n",
       "24832520                 17                     NaN       10749   \n",
       "24832521                 17                     NaN       21334   \n",
       "24832522                 17                     NaN       33401   \n",
       "26215001                 13                     NaN       49621   \n",
       "\n",
       "          add_to_cart_order  reordered  ... order_frequency_flag  first_name  \\\n",
       "24832518                  1          0  ...                  NaN       Jason   \n",
       "24832519                  2          0  ...                  NaN       Jason   \n",
       "24832520                  3          0  ...                  NaN       Jason   \n",
       "24832521                  5          0  ...                  NaN       Jason   \n",
       "24832522                  6          0  ...                  NaN       Jason   \n",
       "26215001                  1          0  ...                  NaN       Marie   \n",
       "\n",
       "          surname  gender     state  age date_joined n_dependants fam_status  \\\n",
       "24832518     Nava    Male  Arkansas   63  2018-11-09            3    married   \n",
       "24832519     Nava    Male  Arkansas   63  2018-11-09            3    married   \n",
       "24832520     Nava    Male  Arkansas   63  2018-11-09            3    married   \n",
       "24832521     Nava    Male  Arkansas   63  2018-11-09            3    married   \n",
       "24832522     Nava    Male  Arkansas   63  2018-11-09            3    married   \n",
       "26215001  Medrano  Female   Arizona   26  2017-06-01            1    married   \n",
       "\n",
       "          income  \n",
       "24832518  140994  \n",
       "24832519  140994  \n",
       "24832520  140994  \n",
       "24832521  140994  \n",
       "24832522  140994  \n",
       "26215001   78169  \n",
       "\n",
       "[6 rows x 37 columns]"
      ]
     },
     "execution_count": 66,
     "metadata": {},
     "output_type": "execute_result"
    }
   ],
   "source": [
    "## Checking for missing values in column\n",
    "df_merged[df_merged['median_days_since_prior_order'].isnull()]"
   ]
  },
  {
   "cell_type": "code",
   "execution_count": 68,
   "id": "cabb1357-f349-46d5-8e11-4435467beaae",
   "metadata": {},
   "outputs": [
    {
     "name": "stdout",
     "output_type": "stream",
     "text": [
      "   Unnamed: 0_x  Unnamed: 0_y\n",
      "0             0         195.0\n",
      "1             0       14084.0\n",
      "2             0       12427.0\n",
      "3             0       26089.0\n",
      "4             0       26406.0\n"
     ]
    }
   ],
   "source": [
    "##checking for Unnamed columns\n",
    "print(df_merged[['Unnamed: 0_x', 'Unnamed: 0_y']].head())"
   ]
  },
  {
   "cell_type": "code",
   "execution_count": 71,
   "id": "7ff2b05f-5acf-4d4b-ab1f-468fa9df2151",
   "metadata": {},
   "outputs": [
    {
     "data": {
      "text/html": [
       "<div>\n",
       "<style scoped>\n",
       "    .dataframe tbody tr th:only-of-type {\n",
       "        vertical-align: middle;\n",
       "    }\n",
       "\n",
       "    .dataframe tbody tr th {\n",
       "        vertical-align: top;\n",
       "    }\n",
       "\n",
       "    .dataframe thead th {\n",
       "        text-align: right;\n",
       "    }\n",
       "</style>\n",
       "<table border=\"1\" class=\"dataframe\">\n",
       "  <thead>\n",
       "    <tr style=\"text-align: right;\">\n",
       "      <th></th>\n",
       "      <th>busiest_days</th>\n",
       "      <th>busiests_days</th>\n",
       "    </tr>\n",
       "  </thead>\n",
       "  <tbody>\n",
       "    <tr>\n",
       "      <th>5</th>\n",
       "      <td>Least busy</td>\n",
       "      <td>Slowest days</td>\n",
       "    </tr>\n",
       "    <tr>\n",
       "      <th>6</th>\n",
       "      <td>Least busy</td>\n",
       "      <td>Slowest days</td>\n",
       "    </tr>\n",
       "    <tr>\n",
       "      <th>7</th>\n",
       "      <td>Least busy</td>\n",
       "      <td>Slowest days</td>\n",
       "    </tr>\n",
       "    <tr>\n",
       "      <th>8</th>\n",
       "      <td>Least busy</td>\n",
       "      <td>Slowest days</td>\n",
       "    </tr>\n",
       "    <tr>\n",
       "      <th>9</th>\n",
       "      <td>Least busy</td>\n",
       "      <td>Slowest days</td>\n",
       "    </tr>\n",
       "    <tr>\n",
       "      <th>...</th>\n",
       "      <td>...</td>\n",
       "      <td>...</td>\n",
       "    </tr>\n",
       "    <tr>\n",
       "      <th>31987176</th>\n",
       "      <td>Busiest day</td>\n",
       "      <td>Busiests days</td>\n",
       "    </tr>\n",
       "    <tr>\n",
       "      <th>31987177</th>\n",
       "      <td>Busiest day</td>\n",
       "      <td>Busiests days</td>\n",
       "    </tr>\n",
       "    <tr>\n",
       "      <th>31987178</th>\n",
       "      <td>Busiest day</td>\n",
       "      <td>Busiests days</td>\n",
       "    </tr>\n",
       "    <tr>\n",
       "      <th>31987179</th>\n",
       "      <td>Busiest day</td>\n",
       "      <td>Busiests days</td>\n",
       "    </tr>\n",
       "    <tr>\n",
       "      <th>31987180</th>\n",
       "      <td>Busiest day</td>\n",
       "      <td>Busiests days</td>\n",
       "    </tr>\n",
       "  </tbody>\n",
       "</table>\n",
       "<p>19238737 rows × 2 columns</p>\n",
       "</div>"
      ],
      "text/plain": [
       "         busiest_days  busiests_days\n",
       "5          Least busy   Slowest days\n",
       "6          Least busy   Slowest days\n",
       "7          Least busy   Slowest days\n",
       "8          Least busy   Slowest days\n",
       "9          Least busy   Slowest days\n",
       "...               ...            ...\n",
       "31987176  Busiest day  Busiests days\n",
       "31987177  Busiest day  Busiests days\n",
       "31987178  Busiest day  Busiests days\n",
       "31987179  Busiest day  Busiests days\n",
       "31987180  Busiest day  Busiests days\n",
       "\n",
       "[19238737 rows x 2 columns]"
      ]
     },
     "execution_count": 71,
     "metadata": {},
     "output_type": "execute_result"
    }
   ],
   "source": [
    "## Checking for duplicated similar columns\n",
    "df_merged[df_merged['busiest_days'] != df_merged['busiests_days']][['busiest_days', 'busiests_days']]"
   ]
  },
  {
   "cell_type": "code",
   "execution_count": 73,
   "id": "34143a91-f9e6-47e0-bb35-fdeb4f9d70d2",
   "metadata": {},
   "outputs": [
    {
     "name": "stdout",
     "output_type": "stream",
     "text": [
      "['Regularly busy' 'Least busy' 'Busiest day']\n",
      "['Regularly busy' 'Least busy' 'Busiest day']\n",
      "['Regularly busy' 'Slowest days' 'Busiests days']\n"
     ]
    }
   ],
   "source": [
    "print(df_merged['busiest_day'].unique())\n",
    "print(df_merged['busiest_days'].unique())\n",
    "print(df_merged['busiests_days'].unique())\n"
   ]
  },
  {
   "cell_type": "code",
   "execution_count": 76,
   "id": "9f75951d-a769-4ade-bc3a-737777429b85",
   "metadata": {},
   "outputs": [],
   "source": [
    "##Creating a new dataframe\n",
    "df = df_merged.drop(columns=['Unnamed: 0_x', 'Unnamed: 0_y','busiest_days'])"
   ]
  },
  {
   "cell_type": "code",
   "execution_count": 79,
   "id": "9fd43e57-ccff-4063-a8ff-7c75035fdf93",
   "metadata": {},
   "outputs": [
    {
     "name": "stdout",
     "output_type": "stream",
     "text": [
      "<class 'pandas.core.frame.DataFrame'>\n",
      "RangeIndex: 31987181 entries, 0 to 31987180\n",
      "Data columns (total 34 columns):\n",
      " #   Column                         Dtype         \n",
      "---  ------                         -----         \n",
      " 0   order_id                       int64         \n",
      " 1   user_id                        int64         \n",
      " 2   order_number                   int64         \n",
      " 3   orders_day_of_week             int64         \n",
      " 4   order_hour_of_day              int64         \n",
      " 5   days_since_prior_order         float64       \n",
      " 6   product_id                     int64         \n",
      " 7   add_to_cart_order              int64         \n",
      " 8   reordered                      int64         \n",
      " 9   _merge                         category      \n",
      " 10  product_name                   object        \n",
      " 11  aisle_id                       float64       \n",
      " 12  department_id                  float64       \n",
      " 13  prices                         float64       \n",
      " 14  price_range_loc                object        \n",
      " 15  busiest_day                    object        \n",
      " 16  busiests_days                  object        \n",
      " 17  busiest_period_of_day          object        \n",
      " 18  max_order                      int64         \n",
      " 19  loyalty_flag                   object        \n",
      " 20  mean_price_order               float64       \n",
      " 21  mean_prices                    float64       \n",
      " 22  spending_flag                  object        \n",
      " 23  median_days_since_prior_order  float64       \n",
      " 24  order_frequency_flag           object        \n",
      " 25  first_name                     object        \n",
      " 26  surname                        object        \n",
      " 27  gender                         object        \n",
      " 28  state                          object        \n",
      " 29  age                            int64         \n",
      " 30  date_joined                    datetime64[ns]\n",
      " 31  n_dependants                   int64         \n",
      " 32  fam_status                     object        \n",
      " 33  income                         int64         \n",
      "dtypes: category(1), datetime64[ns](1), float64(7), int64(12), object(13)\n",
      "memory usage: 7.9+ GB\n"
     ]
    }
   ],
   "source": [
    "## Consistency Checks \n",
    "df.info()"
   ]
  },
  {
   "cell_type": "code",
   "execution_count": 80,
   "id": "3220d564-3661-4873-899a-9c02a30b141a",
   "metadata": {},
   "outputs": [
    {
     "data": {
      "text/plain": [
       "(31987181, 34)"
      ]
     },
     "execution_count": 80,
     "metadata": {},
     "output_type": "execute_result"
    }
   ],
   "source": [
    "df.shape"
   ]
  },
  {
   "cell_type": "code",
   "execution_count": 77,
   "id": "b2283851-2514-467b-a210-ce7f11a51453",
   "metadata": {},
   "outputs": [],
   "source": [
    "## Exporting DataFrame\n",
    "df.to_pickle(os.path.join(path, '02 Data','Prepared Data', 'final_dataset.pkl'))"
   ]
  }
 ],
 "metadata": {
  "kernelspec": {
   "display_name": "Python [conda env:base] *",
   "language": "python",
   "name": "conda-base-py"
  },
  "language_info": {
   "codemirror_mode": {
    "name": "ipython",
    "version": 3
   },
   "file_extension": ".py",
   "mimetype": "text/x-python",
   "name": "python",
   "nbconvert_exporter": "python",
   "pygments_lexer": "ipython3",
   "version": "3.12.7"
  },
  "panel-cell-order": [
   "f9170260-0dd2-41f7-877e-383f00cc0639",
   "d7260ff5-957e-4acc-addf-f57e63a33c87",
   "2b0ed2ef-9609-4b64-ad5a-3a13eb8babed",
   "a0c2a30f-c4af-4a51-af69-7a00c8364da8"
  ]
 },
 "nbformat": 4,
 "nbformat_minor": 5
}
